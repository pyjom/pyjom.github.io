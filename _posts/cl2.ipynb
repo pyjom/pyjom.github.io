{
 "cells": [
  {
   "cell_type": "code",
   "execution_count": 1,
   "metadata": {},
   "outputs": [
    {
     "name": "stdout",
     "output_type": "stream",
     "text": [
      "Hello World\n"
     ]
    }
   ],
   "source": [
    "print('Hello World')"
   ]
  },
  {
   "cell_type": "code",
   "execution_count": null,
   "metadata": {},
   "outputs": [],
   "source": [
    "import pandas as pd\n",
    "\n",
    "class ExcelMerger:\n",
    "    def __init__(self, file_paths):\n",
    "        self.file_paths = file_paths\n",
    "\n",
    "    def merge_sheets(self):\n",
    "        combined_data = pd.DataFrame()\n",
    "        for file_path in self.file_paths:\n",
    "            excel_file = pd.ExcelFile(file_path)\n",
    "            for sheet_name in excel_file.sheet_names:\n",
    "                df = excel_file.parse(sheet_name)\n",
    "                combined_data = pd.concat([combined_data, df])\n",
    "        return combined_data\n",
    "\n",
    "    def save_to_excel(self, combined_data, output_file):\n",
    "        combined_data.to_excel(output_file, index=False)\n",
    "\n",
    "# Example usage\n",
    "file_paths = ['file1.xlsx', 'file2.xlsx']  # List of file paths\n",
    "merger = ExcelMerger(file_paths)\n",
    "combined_data = merger.merge_sheets()\n",
    "merger.save_to_excel(combined_data, 'combined_file.xlsx')\n"
   ]
  },
  {
   "cell_type": "code",
   "execution_count": 6,
   "metadata": {},
   "outputs": [
    {
     "name": "stdout",
     "output_type": "stream",
     "text": [
      "i\n",
      "i\n",
      "i\n",
      "        Unnamed: 0 Unnamed: 1 Unnamed: 2 Unnamed: 3  \\\n",
      "0   Respondent No.   Barangay     Gender        Age   \n",
      "1                1   Barangka     Female      18-24   \n",
      "2                2   Barangka     Female      18-24   \n",
      "3                3   Barangka     Female      25-34   \n",
      "4                4   Barangka     Female      25-34   \n",
      "..             ...        ...        ...        ...   \n",
      "20              20     Tumana          F      35-44   \n",
      "21              21     Tumana          M      55-64   \n",
      "22              22     Tumana          M      35-44   \n",
      "23              23     Tumana          F      55-64   \n",
      "24              24     Tumana          M      55-64   \n",
      "\n",
      "                          Unnamed: 4              Unnamed: 5     Unnamed: 6  \\\n",
      "0   Average Household Monthly Income  Educational Attainment     Employment   \n",
      "1          P 25, 001.00 - 50, 000.00        College Graduate       Employed   \n",
      "2          P 25, 001.00 - 50, 000.00        College Graduate       Employed   \n",
      "3          P 25, 001.00 - 50, 000.00        College Graduate       Employed   \n",
      "4          P 25, 001.00 - 50, 000.00        College Graduate       Employed   \n",
      "..                               ...                     ...            ...   \n",
      "20         P 25, 001.00 - 50, 000.00        College Graduate       Employed   \n",
      "21         P 25, 001.00 - 50, 000.00        College Graduate       Employed   \n",
      "22         P 10, 001.00 - 25, 000.00    High School Graduate  Self-Employed   \n",
      "23         P 10, 001.00 - 25, 000.00    High School Graduate  Self-Employed   \n",
      "24         P 10, 001.00 - 25, 000.00    High School Graduate  Self-Employed   \n",
      "\n",
      "                        Unnamed: 7                                      Flood  \\\n",
      "0   Years of Stay in Marikina City  Rate the frequency of flood in your area.   \n",
      "1               20 years and above                                          2   \n",
      "2               20 years and above                                          2   \n",
      "3               20 years and above                                          2   \n",
      "4               20 years and above                                          3   \n",
      "..                             ...                                        ...   \n",
      "20                     15-20 years                                          1   \n",
      "21              20 years and above                                          2   \n",
      "22              20 years and above                                          2   \n",
      "23              20 years and above                                          1   \n",
      "24              20 years and above                                          2   \n",
      "\n",
      "                                  Unnamed: 9  ...  \\\n",
      "0   Rate the severity of flood in your area.  ...   \n",
      "1                                          3  ...   \n",
      "2                                          3  ...   \n",
      "3                                          3  ...   \n",
      "4                                          3  ...   \n",
      "..                                       ...  ...   \n",
      "20                                         2  ...   \n",
      "21                                         4  ...   \n",
      "22                                         5  ...   \n",
      "23                                         4  ...   \n",
      "24                                         5  ...   \n",
      "\n",
      "                   Ensure effective disaster response  \\\n",
      "0   Does the city have a plan or standard operatin...   \n",
      "1                                                   4   \n",
      "2                                                   4   \n",
      "3                                                   4   \n",
      "4                                                   4   \n",
      "..                                                ...   \n",
      "20                                                  4   \n",
      "21                                                  4   \n",
      "22                                                  4   \n",
      "23                                                  3   \n",
      "24                                                  3   \n",
      "\n",
      "                                          Unnamed: 53  \\\n",
      "0   Is there a disaster management / preparedness ...   \n",
      "1                                                   4   \n",
      "2                                                   4   \n",
      "3                                                   4   \n",
      "4                                                   4   \n",
      "..                                                ...   \n",
      "20                                                  4   \n",
      "21                                                  4   \n",
      "22                                                  4   \n",
      "23                                                  3   \n",
      "24                                                  3   \n",
      "\n",
      "                                          Unnamed: 54  \\\n",
      "0   Does the responsible disaster management autho...   \n",
      "1                                                   4   \n",
      "2                                                   4   \n",
      "3                                                   4   \n",
      "4                                                   4   \n",
      "..                                                ...   \n",
      "20                                                  4   \n",
      "21                                                  4   \n",
      "22                                                  4   \n",
      "23                                                  3   \n",
      "24                                                  3   \n",
      "\n",
      "                                          Unnamed: 55  \\\n",
      "0   Are equipment and supply needs, as well as the...   \n",
      "1                                                   4   \n",
      "2                                                   4   \n",
      "3                                                   4   \n",
      "4                                                   4   \n",
      "..                                                ...   \n",
      "20                                                  3   \n",
      "21                                                  3   \n",
      "22                                                  3   \n",
      "23                                                  3   \n",
      "24                                                  3   \n",
      "\n",
      "                                          Unnamed: 56  \\\n",
      "0   Would the city be able to continue to feed and...   \n",
      "1                                                   4   \n",
      "2                                                   4   \n",
      "3                                                   4   \n",
      "4                                                   4   \n",
      "..                                                ...   \n",
      "20                                                  3   \n",
      "21                                                  3   \n",
      "22                                                  3   \n",
      "23                                                  3   \n",
      "24                                                  4   \n",
      "\n",
      "                                          Unnamed: 57  \\\n",
      "0   Is there an emergency operations centre, with ...   \n",
      "1                                                   4   \n",
      "2                                                   4   \n",
      "3                                                   4   \n",
      "4                                                   4   \n",
      "..                                                ...   \n",
      "20                                                  3   \n",
      "21                                                  4   \n",
      "22                                                  3   \n",
      "23                                                  4   \n",
      "24                                                  4   \n",
      "\n",
      "                                          Unnamed: 58  \\\n",
      "0   Do practices and drills involve both the publi...   \n",
      "1                                                   4   \n",
      "2                                                   4   \n",
      "3                                                   4   \n",
      "4                                                   4   \n",
      "..                                                ...   \n",
      "20                                                  3   \n",
      "21                                                  3   \n",
      "22                                                  3   \n",
      "23                                                  3   \n",
      "24                                                  3   \n",
      "\n",
      "              Expedite recovery and build back better  \\\n",
      "0   Is there a strategy or process in place for po...   \n",
      "1                                                   4   \n",
      "2                                                   4   \n",
      "3                                                   4   \n",
      "4                                                   4   \n",
      "..                                                ...   \n",
      "20                                                  3   \n",
      "21                                                  3   \n",
      "22                                                  3   \n",
      "23                                                  3   \n",
      "24                                                  4   \n",
      "\n",
      "                                          Unnamed: 60 Nangka  \n",
      "0   Do post-event assessment processes incorporate...    NaN  \n",
      "1                                                   4    NaN  \n",
      "2                                                   4    NaN  \n",
      "3                                                   4    NaN  \n",
      "4                                                   4    NaN  \n",
      "..                                                ...    ...  \n",
      "20                                                  3    NaN  \n",
      "21                                                  3    NaN  \n",
      "22                                                  3    NaN  \n",
      "23                                                  3    NaN  \n",
      "24                                                  3    NaN  \n",
      "\n",
      "[474 rows x 62 columns]\n"
     ]
    }
   ],
   "source": [
    "## OOP 1\n",
    "import pandas as pd\n",
    "class Merger:\n",
    "    def __init__(self, files):\n",
    "        self.files =files\n",
    "        \n",
    "    def iterate(self):\n",
    "        combined = pd.DataFrame()\n",
    "        for file in self.files: # Iterating through the files\n",
    "            print('i')\n",
    "            excel = pd.ExcelFile(file) # Opening each file\n",
    "            for sheet in excel.sheet_names: # Opening each sheets of the file\n",
    "                df = excel.parse(sheet)\n",
    "                combined = pd.concat([combined, df])\n",
    "        return(combined)\n",
    "\n",
    "\n",
    "files = ['Barangka.xlsx', 'Nangka.xlsx', 'Parang.xlsx']\n",
    "merger = Merger(files)\n",
    "comb_data =merger.iterate()\n",
    "print(comb_data)\n",
    "        "
   ]
  },
  {
   "cell_type": "code",
   "execution_count": 27,
   "metadata": {},
   "outputs": [
    {
     "data": {
      "text/plain": [
       "(474, 62)"
      ]
     },
     "execution_count": 27,
     "metadata": {},
     "output_type": "execute_result"
    }
   ],
   "source": [
    "comb_data.shape"
   ]
  },
  {
   "cell_type": "markdown",
   "metadata": {},
   "source": [
    "Based on the paper, there are total of 383 respondents. Thus, 474 rows is absurd. One way to address this is by checking if there is duplicates. If yes, then drop it."
   ]
  },
  {
   "cell_type": "code",
   "execution_count": 34,
   "metadata": {},
   "outputs": [
    {
     "name": "stdout",
     "output_type": "stream",
     "text": [
      "        Unnamed: 0 Unnamed: 1 Unnamed: 2 Unnamed: 3  \\\n",
      "0   Respondent No.   Barangay     Gender        Age   \n",
      "0   Respondent No.   Barangay     Gender        Age   \n",
      "0   Respondent No.   Barangay     Gender        Age   \n",
      "0   Respondent No.   Barangay     Gender        Age   \n",
      "27             NaN        NaN        NaN        NaN   \n",
      "..             ...        ...        ...        ...   \n",
      "0   Respondent No.   Barangay     Gender        Age   \n",
      "0   Respondent No.   Barangay     Gender        Age   \n",
      "0   Respondent No.   Barangay     Gender        Age   \n",
      "0   Respondent No.   Barangay     Gender        Age   \n",
      "0   Respondent No.   Barangay     Gender        Age   \n",
      "\n",
      "                          Unnamed: 4              Unnamed: 5  Unnamed: 6  \\\n",
      "0   Average Household Monthly Income  Educational Attainment  Employment   \n",
      "0   Average Household Monthly Income  Educational Attainment  Employment   \n",
      "0   Average Household Monthly Income  Educational Attainment  Employment   \n",
      "0   Average Household Monthly Income  Educational Attainment  Employment   \n",
      "27                               NaN                     NaN         NaN   \n",
      "..                               ...                     ...         ...   \n",
      "0   Average Household Monthly Income  Educational Attainment  Employment   \n",
      "0   Average Household Monthly Income  Educational Attainment  Employment   \n",
      "0   Average Household Monthly Income  Educational Attainment  Employment   \n",
      "0   Average Household Monthly Income  Educational Attainment  Employment   \n",
      "0   Average Household Monthly Income  Educational Attainment  Employment   \n",
      "\n",
      "                        Unnamed: 7                                      Flood  \\\n",
      "0   Years of Stay in Marikina City  Rate the frequency of flood in your area.   \n",
      "0   Years of Stay in Marikina City  Rate the frequency of flood in your area.   \n",
      "0   Years of Stay in Marikina City  Rate the frequency of flood in your area.   \n",
      "0   Years of Stay in Marikina City  Rate the frequency of flood in your area.   \n",
      "27                             NaN                                        NaN   \n",
      "..                             ...                                        ...   \n",
      "0   Years of Stay in Marikina City  Rate the frequency of flood in your area.   \n",
      "0   Years of Stay in Marikina City  Rate the frequency of flood in your area.   \n",
      "0   Years of Stay in Marikina City  Rate the frequency of flood in your area.   \n",
      "0   Years of Stay in Marikina City  Rate the frequency of flood in your area.   \n",
      "0   Years of Stay in Marikina City  Rate the frequency of flood in your area.   \n",
      "\n",
      "                                  Unnamed: 9  ...  \\\n",
      "0   Rate the severity of flood in your area.  ...   \n",
      "0   Rate the severity of flood in your area.  ...   \n",
      "0   Rate the severity of flood in your area.  ...   \n",
      "0   Rate the severity of flood in your area.  ...   \n",
      "27                                       NaN  ...   \n",
      "..                                       ...  ...   \n",
      "0   Rate the severity of flood in your area.  ...   \n",
      "0   Rate the severity of flood in your area.  ...   \n",
      "0   Rate the severity of flood in your area.  ...   \n",
      "0   Rate the severity of flood in your area.  ...   \n",
      "0   Rate the severity of flood in your area.  ...   \n",
      "\n",
      "                   Ensure effective disaster response  \\\n",
      "0   Does the city have a plan or standard operatin...   \n",
      "0   Does the city have a plan or standard operatin...   \n",
      "0   Does the city have a plan or standard operatin...   \n",
      "0   Does the city have a plan or standard operatin...   \n",
      "27                                                NaN   \n",
      "..                                                ...   \n",
      "0   Does the city have a plan or standard operatin...   \n",
      "0   Does the city have a plan or standard operatin...   \n",
      "0   Does the city have a plan or standard operatin...   \n",
      "0   Does the city have a plan or standard operatin...   \n",
      "0   Does the city have a plan or standard operatin...   \n",
      "\n",
      "                                          Unnamed: 53  \\\n",
      "0   Is there a disaster management / preparedness ...   \n",
      "0   Is there a disaster management / preparedness ...   \n",
      "0   Is there a disaster management / preparedness ...   \n",
      "0   Is there a disaster management / preparedness ...   \n",
      "27                                                NaN   \n",
      "..                                                ...   \n",
      "0   Is there a disaster management / preparedness ...   \n",
      "0   Is there a disaster management / preparedness ...   \n",
      "0   Is there a disaster management / preparedness ...   \n",
      "0   Is there a disaster management / preparedness ...   \n",
      "0   Is there a disaster management / preparedness ...   \n",
      "\n",
      "                                          Unnamed: 54  \\\n",
      "0   Does the responsible disaster management autho...   \n",
      "0   Does the responsible disaster management autho...   \n",
      "0   Does the responsible disaster management autho...   \n",
      "0   Does the responsible disaster management autho...   \n",
      "27                                                NaN   \n",
      "..                                                ...   \n",
      "0   Does the responsible disaster management autho...   \n",
      "0   Does the responsible disaster management autho...   \n",
      "0   Does the responsible disaster management autho...   \n",
      "0   Does the responsible disaster management autho...   \n",
      "0   Does the responsible disaster management autho...   \n",
      "\n",
      "                                          Unnamed: 55  \\\n",
      "0   Are equipment and supply needs, as well as the...   \n",
      "0   Are equipment and supply needs, as well as the...   \n",
      "0   Are equipment and supply needs, as well as the...   \n",
      "0   Are equipment and supply needs, as well as the...   \n",
      "27                                                NaN   \n",
      "..                                                ...   \n",
      "0   Are equipment and supply needs, as well as the...   \n",
      "0   Are equipment and supply needs, as well as the...   \n",
      "0   Are equipment and supply needs, as well as the...   \n",
      "0   Are equipment and supply needs, as well as the...   \n",
      "0   Are equipment and supply needs, as well as the...   \n",
      "\n",
      "                                          Unnamed: 56  \\\n",
      "0   Would the city be able to continue to feed and...   \n",
      "0   Would the city be able to continue to feed and...   \n",
      "0   Would the city be able to continue to feed and...   \n",
      "0   Would the city be able to continue to feed and...   \n",
      "27                                                NaN   \n",
      "..                                                ...   \n",
      "0   Would the city be able to continue to feed and...   \n",
      "0   Would the city be able to continue to feed and...   \n",
      "0   Would the city be able to continue to feed and...   \n",
      "0   Would the city be able to continue to feed and...   \n",
      "0   Would the city be able to continue to feed and...   \n",
      "\n",
      "                                          Unnamed: 57  \\\n",
      "0   Is there an emergency operations centre, with ...   \n",
      "0   Is there an emergency operations centre, with ...   \n",
      "0   Is there an emergency operations centre, with ...   \n",
      "0   Is there an emergency operations centre, with ...   \n",
      "27                                                NaN   \n",
      "..                                                ...   \n",
      "0   Is there an emergency operations centre, with ...   \n",
      "0   Is there an emergency operations centre, with ...   \n",
      "0   Is there an emergency operations centre, with ...   \n",
      "0   Is there an emergency operations centre, with ...   \n",
      "0   Is there an emergency operations centre, with ...   \n",
      "\n",
      "                                          Unnamed: 58  \\\n",
      "0   Do practices and drills involve both the publi...   \n",
      "0   Do practices and drills involve both the publi...   \n",
      "0   Do practices and drills involve both the publi...   \n",
      "0   Do practices and drills involve both the publi...   \n",
      "27                                                NaN   \n",
      "..                                                ...   \n",
      "0   Do practices and drills involve both the publi...   \n",
      "0   Do practices and drills involve both the publi...   \n",
      "0   Do practices and drills involve both the publi...   \n",
      "0   Do practices and drills involve both the publi...   \n",
      "0   Do practices and drills involve both the publi...   \n",
      "\n",
      "              Expedite recovery and build back better  \\\n",
      "0   Is there a strategy or process in place for po...   \n",
      "0   Is there a strategy or process in place for po...   \n",
      "0   Is there a strategy or process in place for po...   \n",
      "0   Is there a strategy or process in place for po...   \n",
      "27                                                NaN   \n",
      "..                                                ...   \n",
      "0   Is there a strategy or process in place for po...   \n",
      "0   Is there a strategy or process in place for po...   \n",
      "0   Is there a strategy or process in place for po...   \n",
      "0   Is there a strategy or process in place for po...   \n",
      "0   Is there a strategy or process in place for po...   \n",
      "\n",
      "                                          Unnamed: 60  Nangka  \n",
      "0   Do post-event assessment processes incorporate...     NaN  \n",
      "0   Do post-event assessment processes incorporate...     NaN  \n",
      "0   Do post-event assessment processes incorporate...     NaN  \n",
      "0   Do post-event assessment processes incorporate...     NaN  \n",
      "27                                                NaN  Nangka  \n",
      "..                                                ...     ...  \n",
      "0   Do post-event assessment processes incorporate...     NaN  \n",
      "0   Do post-event assessment processes incorporate...     NaN  \n",
      "0   Do post-event assessment processes incorporate...     NaN  \n",
      "0   Do post-event assessment processes incorporate...     NaN  \n",
      "0   Do post-event assessment processes incorporate...     NaN  \n",
      "\n",
      "[86 rows x 62 columns]\n"
     ]
    }
   ],
   "source": [
    "dupl = comb_data.duplicated()\n",
    "print(comb_data[dupl])"
   ]
  },
  {
   "cell_type": "code",
   "execution_count": 38,
   "metadata": {},
   "outputs": [
    {
     "data": {
      "text/plain": [
       "(388, 62)"
      ]
     },
     "execution_count": 38,
     "metadata": {},
     "output_type": "execute_result"
    }
   ],
   "source": [
    "comb_data_1 = comb_data.drop_duplicates()\n",
    "comb_data_1.shape"
   ]
  },
  {
   "cell_type": "markdown",
   "metadata": {},
   "source": [
    "Save the new dataframe into a new excel file"
   ]
  },
  {
   "cell_type": "code",
   "execution_count": 40,
   "metadata": {},
   "outputs": [],
   "source": [
    "comb_data.to_excel('combined_data.xlsx')"
   ]
  },
  {
   "cell_type": "markdown",
   "metadata": {},
   "source": [
    "OOP2 Address:\n",
    "1. Repeated column names\n",
    "2. Duplicates = check\n",
    "3. 'Nangka.xlsx' dirty file = check\n",
    "3. Save it to excel right away\n"
   ]
  },
  {
   "cell_type": "code",
   "execution_count": 10,
   "metadata": {},
   "outputs": [],
   "source": [
    "## OOP2\n",
    "import pandas as pd\n",
    "class Merger1:\n",
    "    def __init__(self, files):\n",
    "        self.files = files\n",
    "\n",
    "    def iterate(self):\n",
    "        comb = pd.DataFrame\n",
    "        for file in self.files:\n",
    "            print('Analyzing')\n",
    "            # opening the file\n",
    "            excel = pd.ExcelFile(file)\n",
    "            # going through the sheets of the file using '.sheet_names'\n",
    "            for sheet in excel.sheet_names:\n",
    "                # parse the sheet to the excel\n",
    "                df = excel.parse(sheet)\n",
    "                first = df.shape\n",
    "                # removing null values using thresh = atleast 5 null values in a row\n",
    "                df = df.dropna(thresh=5)  \n",
    "                second = df.shape\n",
    "                if first == second:\n",
    "                    print(df.shape)\n",
    "                else:\n",
    "                    print('Inconsistent shape...\\nHandled')\n",
    "                # combining the data together\n",
    "                comb = pd.concat([comb, df])\n",
    "        comb_1 = comb.drop_duplicates()\n",
    "        print(comb_1.shape)\n",
    "        return(comb_1)\n",
    "    \n",
    "    def save(self, combined_data, output_file):\n",
    "        combined_data.to_excel(output_file, index=False)\n",
    "\n",
    "     \n",
    "            \n",
    "files = ['Barangka.xlsx', 'Nangka.xlsx', 'Parang.xlsx']\n",
    "merger = Merger1(files)\n",
    "comb_data = merger.iterate()\n",
    "merger.save(comb_data, 'combined_data(1).xlsx')\n",
    "        "
   ]
  },
  {
   "cell_type": "code",
   "execution_count": 18,
   "metadata": {},
   "outputs": [
    {
     "name": "stdout",
     "output_type": "stream",
     "text": [
      "i\n",
      "(25, 61)\n",
      "(25, 61)\n",
      "(25, 61)\n",
      "(25, 61)\n",
      "(25, 61)\n",
      "i\n",
      "(99, 61) --> (25, 61)\n",
      "(25, 61)\n",
      "(25, 61)\n",
      "(25, 61)\n",
      "(25, 61)\n",
      "i\n",
      "(25, 61)\n",
      "(25, 61)\n",
      "(25, 61)\n",
      "(25, 61)\n",
      "(25, 61)\n",
      "(25, 61)\n",
      "Total index of the table is (386, 62)\n"
     ]
    },
    {
     "data": {
      "text/plain": [
       "'File is saved'"
      ]
     },
     "execution_count": 18,
     "metadata": {},
     "output_type": "execute_result"
    }
   ],
   "source": [
    "## OOP 1\n",
    "import pandas as pd\n",
    "class Merger:\n",
    "    def __init__(self, files):\n",
    "        self.files =files\n",
    "        \n",
    "    def iterate(self):\n",
    "        combined = pd.DataFrame()\n",
    "        for file in self.files: # Iterating through the files\n",
    "            print('i')\n",
    "            excel = pd.ExcelFile(file) # Opening each file\n",
    "            for sheet in excel.sheet_names: # Opening each sheets of the file\n",
    "                df = excel.parse(sheet)\n",
    "                first = df.shape\n",
    "                df = df.dropna(thresh=5) \n",
    "                second = df.shape \n",
    "                if first == second:\n",
    "                    print(second)\n",
    "                else:\n",
    "                    print(first, '-->', second)               \n",
    "                \n",
    "                combined = pd.concat([combined, df])\n",
    "        comb_1 = combined.drop_duplicates()\n",
    "        print('Total index of the table is', comb_1.shape)\n",
    "        return(comb_1)\n",
    "    \n",
    "    def save(self, combined_data, output_file):\n",
    "        combined_data.to_excel(output_file, index=False)\n",
    "        return('File is saved')\n",
    "\n",
    "files = ['Barangka.xlsx', 'Nangka.xlsx', 'Parang.xlsx']\n",
    "merger = Merger(files)\n",
    "comb_data =merger.iterate()\n",
    "merger.save(comb_data, 'combined_data(1).xlsx')\n",
    "\n",
    "        "
   ]
  },
  {
   "cell_type": "markdown",
   "metadata": {},
   "source": [
    "Data Manipulation"
   ]
  },
  {
   "cell_type": "code",
   "execution_count": 20,
   "metadata": {},
   "outputs": [],
   "source": [
    "df = pd.read_csv('combined_data(1).csv')"
   ]
  },
  {
   "cell_type": "code",
   "execution_count": 21,
   "metadata": {},
   "outputs": [
    {
     "data": {
      "text/plain": [
       "Index(['Respondent No.', 'Barangay', 'Gender', 'Age', 'Ave_Monthly_Inc',\n",
       "       'Educ_Attain', 'Employment', 'Years_of_Stay', 'F1', 'F2', 'E1', 'E2',\n",
       "       'O1', 'O2', 'OR1', 'OR2', 'OR3', 'I1', 'I2', 'I3', 'I4', 'I5', 'SF1',\n",
       "       'SF2', 'SF3', 'SF4', 'PR1', 'PR2', 'PR3', 'PR4', 'SN1', 'SN2', 'SN3',\n",
       "       'SIC1', 'SIC2', 'SIC3', 'SIC4', 'SIC5', 'SIC6', 'US1', 'US2', 'US3',\n",
       "       'US4', 'IIR1', 'IIR2', 'IIR3', 'IIR4', 'IIR5', 'IIR6', 'IIR7', 'IIR8',\n",
       "       'IIR9', 'EED1', 'EED2', 'EED3', 'EED4', 'EED5', 'EED6', 'EED7', 'ERB1',\n",
       "       'ERB2'],\n",
       "      dtype='object')"
      ]
     },
     "execution_count": 21,
     "metadata": {},
     "output_type": "execute_result"
    }
   ],
   "source": [
    "df.columns"
   ]
  },
  {
   "cell_type": "code",
   "execution_count": 22,
   "metadata": {},
   "outputs": [
    {
     "data": {
      "text/plain": [
       "array(['Female', 'Male'], dtype=object)"
      ]
     },
     "execution_count": 22,
     "metadata": {},
     "output_type": "execute_result"
    }
   ],
   "source": [
    "df['Gender'].unique()"
   ]
  },
  {
   "cell_type": "code",
   "execution_count": 23,
   "metadata": {},
   "outputs": [
    {
     "data": {
      "text/plain": [
       "array(['18-24', '25-34', '35-44', '45-54', '55-64', 'Above 64',\n",
       "       'above 64', '64+'], dtype=object)"
      ]
     },
     "execution_count": 23,
     "metadata": {},
     "output_type": "execute_result"
    }
   ],
   "source": [
    "df['Age'].unique()"
   ]
  },
  {
   "cell_type": "code",
   "execution_count": 24,
   "metadata": {},
   "outputs": [],
   "source": [
    "df['Age'] = df['Age'].replace('above 64', '64+')\n",
    "df['Age'] = df['Age'].replace('Above 64', '64+')"
   ]
  },
  {
   "cell_type": "code",
   "execution_count": 25,
   "metadata": {},
   "outputs": [
    {
     "data": {
      "text/plain": [
       "array(['18-24', '25-34', '35-44', '45-54', '55-64', '64+'], dtype=object)"
      ]
     },
     "execution_count": 25,
     "metadata": {},
     "output_type": "execute_result"
    }
   ],
   "source": [
    "df['Age'].unique()"
   ]
  },
  {
   "cell_type": "code",
   "execution_count": 29,
   "metadata": {},
   "outputs": [
    {
     "data": {
      "text/plain": [
       "array(['P 25, 001.00 - 50, 000.00', 'P 10, 001.00 - 25, 000.00',\n",
       "       'P 10, 000.00 and below', 'P 50, 001.00 and above', 'Below 10k',\n",
       "       '10k-25k', '25k-50k', '50k above', '10,000 below', '25,001-50,000'],\n",
       "      dtype=object)"
      ]
     },
     "execution_count": 29,
     "metadata": {},
     "output_type": "execute_result"
    }
   ],
   "source": [
    "df['Ave_Monthly_Inc'].unique()"
   ]
  },
  {
   "cell_type": "code",
   "execution_count": 32,
   "metadata": {},
   "outputs": [],
   "source": [
    "df['Ave_Monthly_Inc'] = df['Ave_Monthly_Inc'].replace('P 25, 001.00 - 50, 000.00', '25k-50k')\n",
    "df['Ave_Monthly_Inc'] = df['Ave_Monthly_Inc'].replace('25,001-50,000', '25k-50k')\n",
    "df['Ave_Monthly_Inc'] = df['Ave_Monthly_Inc'].replace('10,000 below', 'Below 10k')\n",
    "df['Ave_Monthly_Inc'] = df['Ave_Monthly_Inc'].replace('P 10, 001.00 - 25, 000.00', '10k-25k')\n",
    "df['Ave_Monthly_Inc'] = df['Ave_Monthly_Inc'].replace('P 10, 000.00 and below', 'Below 10k')\n",
    "df['Ave_Monthly_Inc'] = df['Ave_Monthly_Inc'].replace('P 50, 001.00 and above', '50k above')"
   ]
  },
  {
   "cell_type": "code",
   "execution_count": 33,
   "metadata": {},
   "outputs": [
    {
     "data": {
      "text/plain": [
       "array(['25k-50k', '10k-25k', 'Below 10k', '50k above'], dtype=object)"
      ]
     },
     "execution_count": 33,
     "metadata": {},
     "output_type": "execute_result"
    }
   ],
   "source": [
    "df['Ave_Monthly_Inc'].unique()"
   ]
  },
  {
   "cell_type": "code",
   "execution_count": 34,
   "metadata": {},
   "outputs": [
    {
     "data": {
      "text/plain": [
       "array(['College Graduate', 'College Level', 'Vocational',\n",
       "       'High School Graduate', 'HS GRAD', 'College Grad', 'Vocational ',\n",
       "       'Senior Highschool Graduate'], dtype=object)"
      ]
     },
     "execution_count": 34,
     "metadata": {},
     "output_type": "execute_result"
    }
   ],
   "source": [
    "df['Educ_Attain'].unique()"
   ]
  },
  {
   "cell_type": "code",
   "execution_count": 35,
   "metadata": {},
   "outputs": [],
   "source": [
    "df['Educ_Attain'] = df['Educ_Attain'].replace('HS GRAD', 'High School Graduate')\n",
    "df['Educ_Attain'] = df['Educ_Attain'].replace('College Grad', 'College Graduate')\n",
    "df['Educ_Attain'] = df['Educ_Attain'].replace('Vocational ', 'Vocational')"
   ]
  },
  {
   "cell_type": "code",
   "execution_count": 36,
   "metadata": {},
   "outputs": [
    {
     "data": {
      "text/plain": [
       "array(['College Graduate', 'College Level', 'Vocational',\n",
       "       'High School Graduate', 'Senior Highschool Graduate'], dtype=object)"
      ]
     },
     "execution_count": 36,
     "metadata": {},
     "output_type": "execute_result"
    }
   ],
   "source": [
    "df['Educ_Attain'].unique()"
   ]
  },
  {
   "cell_type": "code",
   "execution_count": 37,
   "metadata": {},
   "outputs": [
    {
     "data": {
      "text/plain": [
       "array(['Employed', 'Self-employed', 'Unemployed', 'Self-Employed',\n",
       "       'Self Employed', 'Unemployed '], dtype=object)"
      ]
     },
     "execution_count": 37,
     "metadata": {},
     "output_type": "execute_result"
    }
   ],
   "source": [
    "df['Employment'].unique()"
   ]
  },
  {
   "cell_type": "code",
   "execution_count": 40,
   "metadata": {},
   "outputs": [],
   "source": [
    "df['Employment'] = df['Employment'].replace(['Self Employed', 'Self-Employed'], 'Self-employed')\n",
    "df['Employment'] = df['Employment'].replace('Unemployed ', 'Unemployed')"
   ]
  },
  {
   "cell_type": "code",
   "execution_count": 41,
   "metadata": {},
   "outputs": [
    {
     "data": {
      "text/plain": [
       "array(['Employed', 'Self-employed', 'Unemployed'], dtype=object)"
      ]
     },
     "execution_count": 41,
     "metadata": {},
     "output_type": "execute_result"
    }
   ],
   "source": [
    "df['Employment'].unique()"
   ]
  },
  {
   "cell_type": "code",
   "execution_count": 42,
   "metadata": {},
   "outputs": [
    {
     "data": {
      "text/plain": [
       "array(['20 years and above', '5-10 years', '5 years and below',\n",
       "       '10-15 years', '15-20 years', '20-years above', '5yrs below',\n",
       "       '21 years and above'], dtype=object)"
      ]
     },
     "execution_count": 42,
     "metadata": {},
     "output_type": "execute_result"
    }
   ],
   "source": [
    "df['Years_of_Stay'].unique()"
   ]
  },
  {
   "cell_type": "code",
   "execution_count": 43,
   "metadata": {},
   "outputs": [],
   "source": [
    "df['Years_of_Stay'] = df['Years_of_Stay'].replace(['20-years above', '20 years and above'], '21 years and above')\n",
    "df['Years_of_Stay'] = df['Years_of_Stay'].replace(['5yrs below'], '5 years and below')"
   ]
  },
  {
   "cell_type": "code",
   "execution_count": 44,
   "metadata": {},
   "outputs": [
    {
     "data": {
      "text/plain": [
       "array(['21 years and above', '5-10 years', '5 years and below',\n",
       "       '10-15 years', '15-20 years'], dtype=object)"
      ]
     },
     "execution_count": 44,
     "metadata": {},
     "output_type": "execute_result"
    }
   ],
   "source": [
    "df['Years_of_Stay'].unique()"
   ]
  },
  {
   "cell_type": "code",
   "execution_count": 45,
   "metadata": {},
   "outputs": [],
   "source": [
    "df.to_csv('combined_data(2).csv')"
   ]
  },
  {
   "cell_type": "code",
   "execution_count": null,
   "metadata": {},
   "outputs": [],
   "source": []
  }
 ],
 "metadata": {
  "kernelspec": {
   "display_name": "base",
   "language": "python",
   "name": "python3"
  },
  "language_info": {
   "codemirror_mode": {
    "name": "ipython",
    "version": 3
   },
   "file_extension": ".py",
   "mimetype": "text/x-python",
   "name": "python",
   "nbconvert_exporter": "python",
   "pygments_lexer": "ipython3",
   "version": "3.9.13"
  }
 },
 "nbformat": 4,
 "nbformat_minor": 2
}
